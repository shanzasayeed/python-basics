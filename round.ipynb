{
 "cells": [
  {
   "cell_type": "code",
   "execution_count": 1,
   "metadata": {},
   "outputs": [
    {
     "name": "stdout",
     "output_type": "stream",
     "text": [
      "22\n",
      "22.49\n",
      "7\n",
      "23\n",
      "23.0\n",
      "22\n"
     ]
    }
   ],
   "source": [
    "print(round(22.4))\n",
    "print(round(22.489,2))\n",
    "print(round(7,2)) #integer will return integer\n",
    "print(round(22.89))\n",
    "print(round(22.65678,0))\n",
    "print(round(22.5)) #will round off to nearest even integer"
   ]
  },
  {
   "cell_type": "code",
   "execution_count": 2,
   "metadata": {},
   "outputs": [
    {
     "name": "stdout",
     "output_type": "stream",
     "text": [
      "670\n",
      "680\n",
      "700\n",
      "1000\n",
      "0\n",
      "10000\n",
      "670.0\n",
      "1300\n"
     ]
    }
   ],
   "source": [
    "print(round(674,-1))\n",
    "print(round(678,-1))\n",
    "print(round(674,-2))\n",
    "print(round(674,-3))\n",
    "print(round(674,-4))\n",
    "print(round(6674,-4))\n",
    "print(round(674.1012,-1))\n",
    "print(round(1272,-2))"
   ]
  },
  {
   "cell_type": "code",
   "execution_count": null,
   "metadata": {},
   "outputs": [],
   "source": []
  }
 ],
 "metadata": {
  "kernelspec": {
   "display_name": "base",
   "language": "python",
   "name": "python3"
  },
  "language_info": {
   "codemirror_mode": {
    "name": "ipython",
    "version": 3
   },
   "file_extension": ".py",
   "mimetype": "text/x-python",
   "name": "python",
   "nbconvert_exporter": "python",
   "pygments_lexer": "ipython3",
   "version": "3.10.10"
  },
  "orig_nbformat": 4
 },
 "nbformat": 4,
 "nbformat_minor": 2
}
