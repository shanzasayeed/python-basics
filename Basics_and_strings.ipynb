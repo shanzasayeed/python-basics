{
 "cells": [
  {
   "cell_type": "markdown",
   "metadata": {},
   "source": [
    "Print"
   ]
  },
  {
   "cell_type": "code",
   "execution_count": 9,
   "metadata": {},
   "outputs": [
    {
     "name": "stdout",
     "output_type": "stream",
     "text": [
      "What to print?\n",
      "print('what to print?')\n"
     ]
    }
   ],
   "source": [
    "print('What to print?')\n",
    "print(\"print('what to print?')\")"
   ]
  },
  {
   "cell_type": "markdown",
   "metadata": {},
   "source": [
    "Slashing"
   ]
  },
  {
   "cell_type": "code",
   "execution_count": 10,
   "metadata": {},
   "outputs": [
    {
     "name": "stdout",
     "output_type": "stream",
     "text": [
      " Hello World \n",
      " Hello World \n",
      " Hello World \n",
      " Hello World  \n"
     ]
    }
   ],
   "source": [
    "print( ' Hello World \\n Hello World \\n Hello World \\n Hello World  ')"
   ]
  },
  {
   "cell_type": "code",
   "execution_count": 11,
   "metadata": {},
   "outputs": [
    {
     "name": "stdout",
     "output_type": "stream",
     "text": [
      "Hello World \n",
      "Hello World \n",
      "Hello World \n",
      "Hello World \n",
      "Hello World \n",
      "Hello World \n",
      "Hello World \n",
      "Hello World \n",
      "Hello World \n",
      "Hello World \n",
      "\n"
     ]
    }
   ],
   "source": [
    "print('Hello World \\n' *10)"
   ]
  },
  {
   "cell_type": "markdown",
   "metadata": {},
   "source": [
    "Concatenation"
   ]
  },
  {
   "cell_type": "code",
   "execution_count": 17,
   "metadata": {},
   "outputs": [
    {
     "name": "stdout",
     "output_type": "stream",
     "text": [
      "Hello Shanza\n",
      "Hello Shanza\n"
     ]
    }
   ],
   "source": [
    "print('Hello '+ 'Shanza')\n",
    "print('Hello'+ \" \"+ 'Shanza')\n"
   ]
  },
  {
   "cell_type": "markdown",
   "metadata": {},
   "source": [
    "F - STRING"
   ]
  },
  {
   "cell_type": "code",
   "execution_count": 2,
   "metadata": {},
   "outputs": [
    {
     "name": "stdout",
     "output_type": "stream",
     "text": [
      "Hello, my name is Shanza Sayeed Siddiqui\n"
     ]
    }
   ],
   "source": [
    "name= 'Shanza Sayeed Siddiqui'\n",
    "print(f'Hello, my name is {name}')"
   ]
  },
  {
   "cell_type": "markdown",
   "metadata": {},
   "source": [
    "User Input"
   ]
  },
  {
   "cell_type": "code",
   "execution_count": 25,
   "metadata": {},
   "outputs": [
    {
     "name": "stdout",
     "output_type": "stream",
     "text": [
      "1\n",
      "Hello 1\n",
      "Hey 1,How are you?\n"
     ]
    }
   ],
   "source": [
    "name=input('What is your name?')\n",
    "print(name)\n",
    "print('Hello' + \" \" + name)\n",
    "print('Hey '+ name+ ',' +'How are you?' )"
   ]
  },
  {
   "cell_type": "code",
   "execution_count": 26,
   "metadata": {},
   "outputs": [
    {
     "name": "stdout",
     "output_type": "stream",
     "text": [
      "Hey Shanza, How are you?\n"
     ]
    }
   ],
   "source": [
    "print('Hey '+ input('What is your name?')+','+ ' How are you?' )"
   ]
  },
  {
   "cell_type": "markdown",
   "metadata": {},
   "source": [
    "Length"
   ]
  },
  {
   "cell_type": "code",
   "execution_count": 33,
   "metadata": {},
   "outputs": [
    {
     "name": "stdout",
     "output_type": "stream",
     "text": [
      "6\n",
      "2\n",
      "7\n"
     ]
    }
   ],
   "source": [
    "name=input('What is your name?')\n",
    "age = input('What is your age?')\n",
    "city=input('Where do you live?')\n",
    "print(len(name))\n",
    "print(len(age))\n",
    "print(len(city))\n",
    "\n"
   ]
  },
  {
   "cell_type": "markdown",
   "metadata": {},
   "source": [
    "Swap two numbers\n"
   ]
  },
  {
   "cell_type": "code",
   "execution_count": 35,
   "metadata": {},
   "outputs": [
    {
     "name": "stdout",
     "output_type": "stream",
     "text": [
      "Before swapping n1 is  4\n",
      "Before swapping n2 is  8\n",
      "After swapping n1 is  8\n",
      "After swapping n2 is  4\n"
     ]
    }
   ],
   "source": [
    "n1=int(input('Enter first number'))\n",
    "n2=int(input('Enter second number'))\n",
    "print('Before swapping n1 is ' , n1)\n",
    "print('Before swapping n2 is ' , n2)\n",
    "t=n1\n",
    "n1=n2\n",
    "n2=t\n",
    "print('After swapping n1 is ' , n1)\n",
    "print('After swapping n2 is ' , n2)\n"
   ]
  },
  {
   "cell_type": "markdown",
   "metadata": {},
   "source": [
    "type checking"
   ]
  },
  {
   "cell_type": "code",
   "execution_count": 39,
   "metadata": {},
   "outputs": [
    {
     "name": "stdout",
     "output_type": "stream",
     "text": [
      "<class 'str'>\n",
      "<class 'int'>\n",
      "<class 'float'>\n",
      "<class 'set'>\n",
      "<class 'list'>\n",
      "<class 'tuple'>\n",
      "<class 'dict'>\n",
      "<class 'bool'>\n"
     ]
    }
   ],
   "source": [
    "name='Shanza'\n",
    "age=50\n",
    "sal=67000.5\n",
    "emp=True\n",
    "set1={1,5}\n",
    "list1=[2,3]\n",
    "tuple1=(5,6)\n",
    "dict1={1:'Shanza'}\n",
    "print(type(name))\n",
    "print(type(age))\n",
    "print(type(sal))\n",
    "print(type(set1))\n",
    "print(type(list1))\n",
    "print(type(tuple1))\n",
    "print(type(dict1))\n",
    "print(type(emp))"
   ]
  },
  {
   "cell_type": "code",
   "execution_count": 10,
   "metadata": {},
   "outputs": [
    {
     "data": {
      "text/plain": [
       "0"
      ]
     },
     "execution_count": 10,
     "metadata": {},
     "output_type": "execute_result"
    }
   ],
   "source": [
    "True\n",
    "False\n",
    "True+False\n",
    "False+True\n",
    "False*True\n",
    "False/True\n",
    "False//True\n"
   ]
  },
  {
   "cell_type": "code",
   "execution_count": 18,
   "metadata": {},
   "outputs": [
    {
     "data": {
      "text/plain": [
       "complex"
      ]
     },
     "execution_count": 18,
     "metadata": {},
     "output_type": "execute_result"
    }
   ],
   "source": [
    "f=5+4j\n",
    "type(f)\n",
    "\n",
    "\n"
   ]
  },
  {
   "cell_type": "code",
   "execution_count": 25,
   "metadata": {},
   "outputs": [
    {
     "data": {
      "text/plain": [
       "complex"
      ]
     },
     "execution_count": 25,
     "metadata": {},
     "output_type": "execute_result"
    }
   ],
   "source": [
    "g=8j\n",
    "type(g)"
   ]
  },
  {
   "cell_type": "code",
   "execution_count": 24,
   "metadata": {},
   "outputs": [
    {
     "data": {
      "text/plain": [
       "5.0"
      ]
     },
     "execution_count": 24,
     "metadata": {},
     "output_type": "execute_result"
    }
   ],
   "source": [
    "f.real"
   ]
  },
  {
   "cell_type": "code",
   "execution_count": 22,
   "metadata": {},
   "outputs": [
    {
     "data": {
      "text/plain": [
       "4.0"
      ]
     },
     "execution_count": 22,
     "metadata": {},
     "output_type": "execute_result"
    }
   ],
   "source": [
    "f.imag"
   ]
  },
  {
   "cell_type": "markdown",
   "metadata": {},
   "source": [
    "type conversion"
   ]
  },
  {
   "cell_type": "code",
   "execution_count": 4,
   "metadata": {},
   "outputs": [
    {
     "name": "stdout",
     "output_type": "stream",
     "text": [
      "30\n",
      "1020\n",
      "30.0\n"
     ]
    }
   ],
   "source": [
    "a=10\n",
    "b=20\n",
    "print(a+b)\n",
    "print(str(a)+str(b))\n",
    "print(float(a)+float(b))"
   ]
  },
  {
   "cell_type": "code",
   "execution_count": 5,
   "metadata": {},
   "outputs": [
    {
     "name": "stdout",
     "output_type": "stream",
     "text": [
      "133\n"
     ]
    }
   ],
   "source": [
    "name='123'\n",
    "print(10+ int(name))"
   ]
  },
  {
   "cell_type": "markdown",
   "metadata": {},
   "source": [
    "String"
   ]
  },
  {
   "cell_type": "code",
   "execution_count": 51,
   "metadata": {},
   "outputs": [
    {
     "name": "stdout",
     "output_type": "stream",
     "text": [
      "z\n",
      "i\n"
     ]
    }
   ],
   "source": [
    "#INDEXING\n",
    "n='Shanza Sayeed Siddiqui '\n",
    "print(n[4])\n",
    "print(n[-8])"
   ]
  },
  {
   "cell_type": "code",
   "execution_count": 63,
   "metadata": {},
   "outputs": [
    {
     "name": "stdout",
     "output_type": "stream",
     "text": [
      "Shanza\n",
      "Shanza\n",
      "Sayeed\n",
      "Siddiqui\n",
      "Siddiqui \n",
      "Shanza Sayeed Siddiqui \n",
      "Siddiqui\n",
      "Saz aedSdiu\n",
      "Sn\n",
      "Saz aedSdiu \n",
      " iuqiddiS deeyaS aznahS\n",
      " uidSdea zaS\n"
     ]
    }
   ],
   "source": [
    "#SLICING\n",
    "print(n[0:6])\n",
    "print(n[:6])\n",
    "print(n[7:13])\n",
    "print(n[14:22])\n",
    "print(n[14:])\n",
    "print(n[:])\n",
    "print(n[-9:-1])\n",
    "print(n[0:-1:2])\n",
    "print(n[:6:3])\n",
    "print(n[::2])\n",
    "print(n[::-1])\n",
    "print(n[::-2])"
   ]
  },
  {
   "cell_type": "code",
   "execution_count": 78,
   "metadata": {},
   "outputs": [
    {
     "name": "stdout",
     "output_type": "stream",
     "text": [
      "shnza is alpha\n"
     ]
    }
   ],
   "source": [
    "#VALIDATION METHODS\n",
    "m=input('Enter something')\n",
    "if m.isalpha():\n",
    "    print(m + ' is alpha')\n",
    "else:\n",
    "    print(m +' is not alpha')    "
   ]
  },
  {
   "cell_type": "code",
   "execution_count": 81,
   "metadata": {},
   "outputs": [
    {
     "name": "stdout",
     "output_type": "stream",
     "text": [
      "456778h is not numeric\n"
     ]
    }
   ],
   "source": [
    "a=input('enter something')\n",
    "if a.isnumeric():\n",
    "    print(a + ' is numeric')\n",
    "else:\n",
    "    print(a +' is not numeric')  \n",
    "\n"
   ]
  },
  {
   "cell_type": "code",
   "execution_count": 84,
   "metadata": {},
   "outputs": [
    {
     "name": "stdout",
     "output_type": "stream",
     "text": [
      "fhsghs5% is not alphanumeric\n"
     ]
    }
   ],
   "source": [
    "b=input('enter something')\n",
    "if b.isalnum():\n",
    "    print(b + ' is alphanumeric')\n",
    "else:\n",
    "    print(b +' is not alphanumeric')"
   ]
  },
  {
   "cell_type": "code",
   "execution_count": 87,
   "metadata": {},
   "outputs": [
    {
     "name": "stdout",
     "output_type": "stream",
     "text": [
      "     is space\n"
     ]
    }
   ],
   "source": [
    "d=input('enter something')\n",
    "if d.isspace():\n",
    "    print(d + ' is space')\n",
    "else:\n",
    "    print(d +' is not space')"
   ]
  },
  {
   "cell_type": "code",
   "execution_count": 90,
   "metadata": {},
   "outputs": [
    {
     "name": "stdout",
     "output_type": "stream",
     "text": [
      "dsgghs gsjs is not titlecase\n"
     ]
    }
   ],
   "source": [
    "e=input('enter something')\n",
    "if e.istitle():\n",
    "    print(e + ' is titlecase')\n",
    "else:\n",
    "    print(e +' is not titlecase')"
   ]
  },
  {
   "cell_type": "code",
   "execution_count": 94,
   "metadata": {},
   "outputs": [
    {
     "name": "stdout",
     "output_type": "stream",
     "text": [
      "SGHDFV ihnbn is not uppercase\n"
     ]
    }
   ],
   "source": [
    "u=input('enter something')\n",
    "if u.isupper():\n",
    "    print(u + ' is uppercase')\n",
    "else:\n",
    "    print(u +' is not uppercase')"
   ]
  },
  {
   "cell_type": "code",
   "execution_count": 97,
   "metadata": {},
   "outputs": [
    {
     "name": "stdout",
     "output_type": "stream",
     "text": [
      " false\n"
     ]
    }
   ],
   "source": [
    "s=input('enter something')\n",
    "if s.startswith('a'):\n",
    "    print('true')\n",
    "else:\n",
    "    print(' false')"
   ]
  },
  {
   "cell_type": "code",
   "execution_count": 99,
   "metadata": {},
   "outputs": [
    {
     "name": "stdout",
     "output_type": "stream",
     "text": [
      "true\n"
     ]
    }
   ],
   "source": [
    "s=input('enter something')\n",
    "if not s.startswith('a'):\n",
    "    print('true')\n",
    "else:\n",
    "    print(' false')\n"
   ]
  },
  {
   "cell_type": "code",
   "execution_count": 9,
   "metadata": {},
   "outputs": [
    {
     "name": "stdout",
     "output_type": "stream",
     "text": [
      "JOURNEY BEFORE DESTINATION\n",
      "journey before destination\n",
      "Journey Before Destination\n",
      "Journey before destination\n",
      "JOURNEY BEFORE dESTINATION\n",
      "journey before destination\n"
     ]
    }
   ],
   "source": [
    "#Formatting methods\n",
    "name1 = 'journey before Destination'\n",
    "print(name1.upper())\n",
    "print(name1.lower())\n",
    "print(name1.title())\n",
    "print(name1.capitalize())\n",
    "print(name1.swapcase())\n",
    "print(name1.casefold())"
   ]
  },
  {
   "cell_type": "code",
   "execution_count": 11,
   "metadata": {},
   "outputs": [
    {
     "name": "stdout",
     "output_type": "stream",
     "text": [
      "4\n",
      "4\n",
      "13\n"
     ]
    }
   ],
   "source": [
    "#UTILITY METHODS\n",
    "s ='this is an example string,this is a simple string'\n",
    "print( s.count('is'))\n",
    "print(s.count('t'))\n",
    "tv = s.count('a') + s.count('e') + s.count('i') + s.count('o') + s.count('u')\n",
    "print(tv)\n"
   ]
  },
  {
   "cell_type": "code",
   "execution_count": 12,
   "metadata": {},
   "outputs": [
    {
     "name": "stdout",
     "output_type": "stream",
     "text": [
      "11\n",
      "2\n",
      "5\n",
      "28\n",
      "11\n"
     ]
    }
   ],
   "source": [
    "\n",
    "\n",
    "print(s.find('example'))\n",
    "print(s.find('is'))\n",
    "print(s.find('is' ,3))\n",
    "print(s.find('is' ,6))\n",
    "print(s.find('ex'))\n"
   ]
  },
  {
   "cell_type": "code",
   "execution_count": 13,
   "metadata": {},
   "outputs": [
    {
     "data": {
      "text/plain": [
       "'thwas was an example string,thwas was a simple string'"
      ]
     },
     "execution_count": 13,
     "metadata": {},
     "output_type": "execute_result"
    }
   ],
   "source": [
    "s.replace('is','was')"
   ]
  },
  {
   "cell_type": "code",
   "execution_count": 15,
   "metadata": {},
   "outputs": [
    {
     "name": "stdout",
     "output_type": "stream",
     "text": [
      "['this', 'is', 'an', 'example', 'string,this', 'is', 'a', 'simple', 'string']\n"
     ]
    }
   ],
   "source": [
    "words = s.split()\n",
    "print(words)"
   ]
  },
  {
   "cell_type": "code",
   "execution_count": 16,
   "metadata": {},
   "outputs": [
    {
     "data": {
      "text/plain": [
       "['this is an example string', 'this is a simple string']"
      ]
     },
     "execution_count": 16,
     "metadata": {},
     "output_type": "execute_result"
    }
   ],
   "source": [
    "s.split(',')"
   ]
  },
  {
   "cell_type": "code",
   "execution_count": 20,
   "metadata": {},
   "outputs": [
    {
     "data": {
      "text/plain": [
       "'one two three four'"
      ]
     },
     "execution_count": 20,
     "metadata": {},
     "output_type": "execute_result"
    }
   ],
   "source": [
    "words= ['one','two','three','four']\n",
    "\" \" .join(words)"
   ]
  },
  {
   "cell_type": "code",
   "execution_count": 26,
   "metadata": {},
   "outputs": [
    {
     "name": "stdout",
     "output_type": "stream",
     "text": [
      "     shanza     \n",
      "shanza\n"
     ]
    }
   ],
   "source": [
    "x = '     shanza     '\n",
    "print(x)\n",
    "print(x.strip())\n"
   ]
  }
 ],
 "metadata": {
  "kernelspec": {
   "display_name": "base",
   "language": "python",
   "name": "python3"
  },
  "language_info": {
   "codemirror_mode": {
    "name": "ipython",
    "version": 3
   },
   "file_extension": ".py",
   "mimetype": "text/x-python",
   "name": "python",
   "nbconvert_exporter": "python",
   "pygments_lexer": "ipython3",
   "version": "3.10.10"
  },
  "orig_nbformat": 4
 },
 "nbformat": 4,
 "nbformat_minor": 2
}
