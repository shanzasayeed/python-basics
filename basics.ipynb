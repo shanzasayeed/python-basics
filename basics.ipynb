{
 "cells": [
  {
   "attachments": {},
   "cell_type": "markdown",
   "metadata": {},
   "source": [
    "PRINT"
   ]
  },
  {
   "cell_type": "code",
   "execution_count": 1,
   "metadata": {},
   "outputs": [
    {
     "name": "stdout",
     "output_type": "stream",
     "text": [
      "HELLO WORLD\n"
     ]
    }
   ],
   "source": [
    "print(\"HELLO WORLD\")"
   ]
  },
  {
   "cell_type": "code",
   "execution_count": 1,
   "metadata": {},
   "outputs": [
    {
     "name": "stdout",
     "output_type": "stream",
     "text": [
      "\n"
     ]
    }
   ],
   "source": [
    "print()"
   ]
  },
  {
   "cell_type": "code",
   "execution_count": 6,
   "metadata": {},
   "outputs": [
    {
     "name": "stdout",
     "output_type": "stream",
     "text": [
      "\n",
      "\n",
      "\n",
      "\n",
      "\n"
     ]
    }
   ],
   "source": [
    "print()\n",
    "print()\n",
    "print()\n",
    "print()\n",
    "print()"
   ]
  },
  {
   "cell_type": "code",
   "execution_count": 2,
   "metadata": {},
   "outputs": [
    {
     "name": "stdout",
     "output_type": "stream",
     "text": [
      "First program- Python print function\n",
      "It is declared like this:\n",
      "print('What to print')\n"
     ]
    }
   ],
   "source": [
    "print(\"First program- Python print function\")\n",
    "print(\"It is declared like this:\")\n",
    "print(\"print('What to print')\")\n"
   ]
  },
  {
   "cell_type": "code",
   "execution_count": 8,
   "metadata": {},
   "outputs": [
    {
     "name": "stdout",
     "output_type": "stream",
     "text": [
      "hello\n"
     ]
    }
   ],
   "source": [
    "print('hello')\n"
   ]
  },
  {
   "cell_type": "code",
   "execution_count": 9,
   "metadata": {},
   "outputs": [
    {
     "ename": "SyntaxError",
     "evalue": "invalid syntax. Perhaps you forgot a comma? (4016798032.py, line 1)",
     "output_type": "error",
     "traceback": [
      "\u001b[1;36m  Cell \u001b[1;32mIn[9], line 1\u001b[1;36m\u001b[0m\n\u001b[1;33m    print('print('What to print')')\u001b[0m\n\u001b[1;37m          ^\u001b[0m\n\u001b[1;31mSyntaxError\u001b[0m\u001b[1;31m:\u001b[0m invalid syntax. Perhaps you forgot a comma?\n"
     ]
    }
   ],
   "source": [
    "print('print('What to print')')\n"
   ]
  },
  {
   "attachments": {},
   "cell_type": "markdown",
   "metadata": {},
   "source": [
    "STRING MANIPULATION"
   ]
  },
  {
   "cell_type": "code",
   "execution_count": 11,
   "metadata": {},
   "outputs": [
    {
     "name": "stdout",
     "output_type": "stream",
     "text": [
      "hello \n",
      "hello \n",
      "hello\n"
     ]
    }
   ],
   "source": [
    "#slashing\n",
    "print(\"hello \\nhello \\nhello\")\n"
   ]
  },
  {
   "cell_type": "code",
   "execution_count": 16,
   "metadata": {},
   "outputs": [
    {
     "name": "stdout",
     "output_type": "stream",
     "text": [
      "helloShanza\n",
      "hello Shanza\n"
     ]
    }
   ],
   "source": [
    "# concatenation\n",
    "print(\"hello\" + \"Shanza\")\n",
    "print(\"hello\" + \" \" + \"Shanza\")"
   ]
  },
  {
   "attachments": {},
   "cell_type": "markdown",
   "metadata": {},
   "source": [
    "user input"
   ]
  },
  {
   "cell_type": "code",
   "execution_count": 27,
   "metadata": {},
   "outputs": [
    {
     "data": {
      "text/plain": [
       "'shanza'"
      ]
     },
     "execution_count": 27,
     "metadata": {},
     "output_type": "execute_result"
    }
   ],
   "source": [
    "input(\"What is your name?\")\n"
   ]
  },
  {
   "cell_type": "code",
   "execution_count": 30,
   "metadata": {},
   "outputs": [
    {
     "name": "stdout",
     "output_type": "stream",
     "text": [
      "hello shanza\n"
     ]
    }
   ],
   "source": [
    "print(\"hello\" + \" \" + input(\"What is your name?\"))"
   ]
  },
  {
   "cell_type": "code",
   "execution_count": 31,
   "metadata": {},
   "outputs": [
    {
     "name": "stdout",
     "output_type": "stream",
     "text": [
      "Hey Shanza, How are you?\n"
     ]
    }
   ],
   "source": [
    "print(\"Hey\" + \" \" + input(\"What is your name?\") + \",\" + \" \" + \"How are you?\")"
   ]
  },
  {
   "attachments": {},
   "cell_type": "markdown",
   "metadata": {},
   "source": [
    "variable"
   ]
  },
  {
   "cell_type": "code",
   "execution_count": 49,
   "metadata": {},
   "outputs": [
    {
     "name": "stdout",
     "output_type": "stream",
     "text": [
      "Hey Shanza\n",
      "1\n",
      "Shanza\n",
      "Sayeed\n",
      "Shanza Siddiqui\n"
     ]
    }
   ],
   "source": [
    " \n",
    "name = input(\"What is yor name?\")\n",
    "print(\"Hey\" + \" \" +name)\n",
    "a=1\n",
    "print(a)\n",
    "n= \"Shanza\"\n",
    "print(n)\n",
    "n= \"Sayeed\"   #value of a variable can be changed\n",
    "print(n)\n",
    "b=\"Siddiqui\"\n",
    "print(name + \" \" + b)\n",
    "\n"
   ]
  },
  {
   "cell_type": "code",
   "execution_count": 47,
   "metadata": {},
   "outputs": [
    {
     "name": "stdout",
     "output_type": "stream",
     "text": [
      "6\n",
      "7\n",
      "8\n"
     ]
    }
   ],
   "source": [
    "#length of a string\n",
    "lname = input( \"What is your name?\")\n",
    "print(len(lname))\n",
    "lcity = input(\"Where do you live\")\n",
    "print(len(lcity))\n",
    "print(len(\"Siddiqui\"))\n"
   ]
  },
  {
   "cell_type": "code",
   "execution_count": 53,
   "metadata": {},
   "outputs": [
    {
     "name": "stdout",
     "output_type": "stream",
     "text": [
      "n1 is  3\n",
      "n2 is  5\n"
     ]
    }
   ],
   "source": [
    "#swap two numbers\n",
    "n1  = input(\" Enter first number\")\n",
    "n2 = input(\"Enter second numbr\")\n",
    "t = n1\n",
    "n1 = n2\n",
    "n2 = t\n",
    "print(\"n1 is \" + \" \" + n1)\n",
    "print(\"n2 is \" + \" \" + n2)\n"
   ]
  },
  {
   "cell_type": "code",
   "execution_count": 18,
   "metadata": {},
   "outputs": [
    {
     "name": "stdout",
     "output_type": "stream",
     "text": [
      "<class 'int'>\n",
      "<class 'str'>\n",
      "4\n",
      "<class 'bool'>\n",
      "True\n",
      "<class 'bool'>\n"
     ]
    }
   ],
   "source": [
    "#data type\n",
    "var_1 = 3\n",
    "print(type(var_1))\n",
    "name = 'Shanza'\n",
    "var_2 = True\n",
    "print(type(name))\n",
    "print(var_1 + 1)\n",
    "print(type(var_2))\n",
    "a1=3\n",
    "a2=5\n",
    "var = a1<a2\n",
    "print(var)\n",
    "print(type(var))\n",
    "\n",
    "\n"
   ]
  }
 ],
 "metadata": {
  "kernelspec": {
   "display_name": "base",
   "language": "python",
   "name": "python3"
  },
  "language_info": {
   "codemirror_mode": {
    "name": "ipython",
    "version": 3
   },
   "file_extension": ".py",
   "mimetype": "text/x-python",
   "name": "python",
   "nbconvert_exporter": "python",
   "pygments_lexer": "ipython3",
   "version": "3.10.10"
  },
  "orig_nbformat": 4
 },
 "nbformat": 4,
 "nbformat_minor": 2
}
