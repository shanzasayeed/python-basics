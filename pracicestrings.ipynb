{
 "cells": [
  {
   "cell_type": "code",
   "execution_count": 3,
   "metadata": {},
   "outputs": [
    {
     "name": "stdout",
     "output_type": "stream",
     "text": [
      "S\n",
      "A\n",
      "SHANZA\n",
      "SHANZA SAYEED\n",
      "SIDDIQUI\n",
      "SIDDIQUI\n"
     ]
    }
   ],
   "source": [
    "name = input('Enter your name')\n",
    "#indexing\n",
    "print(name[0])\n",
    "print(name[8])\n",
    "#slicing\n",
    "name1 = name[0:6]\n",
    "name2 = name[:13]\n",
    "name3 = name[-8:]\n",
    "name4 = name[-8:]\n",
    "print(name1)\n",
    "print(name2)\n",
    "print(name3)\n",
    "print(name4)\n"
   ]
  },
  {
   "cell_type": "code",
   "execution_count": 4,
   "metadata": {},
   "outputs": [
    {
     "name": "stdout",
     "output_type": "stream",
     "text": [
      "Saz aedSdiu\n",
      "iuqiddiS deeyaS aznahS\n"
     ]
    }
   ],
   "source": [
    "#range function\n",
    "name = 'Shanza Sayeed Siddiqui'\n",
    "r1 = name[::2]\n",
    "r2 = name[::-1]\n",
    "print(r1)\n",
    "print(r2)"
   ]
  },
  {
   "attachments": {},
   "cell_type": "markdown",
   "metadata": {},
   "source": [
    "VALIDATION METHODS"
   ]
  },
  {
   "cell_type": "code",
   "execution_count": 10,
   "metadata": {},
   "outputs": [
    {
     "name": "stdout",
     "output_type": "stream",
     "text": [
      "Age is  65\n"
     ]
    }
   ],
   "source": [
    "age = input('enter age')\n",
    "if age.isnumeric():\n",
    "    print('Age is ', age)\n",
    "else:\n",
    "    print('invalid input')\n"
   ]
  },
  {
   "cell_type": "code",
   "execution_count": 5,
   "metadata": {},
   "outputs": [
    {
     "name": "stdout",
     "output_type": "stream",
     "text": [
      "invalid input\n"
     ]
    }
   ],
   "source": [
    "sname = input('Enter your name')\n",
    "if sname.isalpha():\n",
    "    print( 'name is ',sname)\n",
    "else:\n",
    "    print('invalid input')\n"
   ]
  },
  {
   "cell_type": "code",
   "execution_count": 4,
   "metadata": {},
   "outputs": [
    {
     "name": "stdout",
     "output_type": "stream",
     "text": [
      "name is  shanza12\n"
     ]
    }
   ],
   "source": [
    "ename = input('Enter your name and ID')\n",
    "if ename.isalnum():\n",
    "    print( 'name is ',ename)\n",
    "else:\n",
    "    print('invalid input')"
   ]
  },
  {
   "cell_type": "code",
   "execution_count": 7,
   "metadata": {},
   "outputs": [
    {
     "name": "stdout",
     "output_type": "stream",
     "text": [
      "not a special character\n"
     ]
    }
   ],
   "source": [
    "fname = input('Enter your name ')\n",
    "if not fname.isalnum():\n",
    "    print( 'special character')\n",
    "else:\n",
    "    print('not a special character')"
   ]
  },
  {
   "cell_type": "code",
   "execution_count": 11,
   "metadata": {},
   "outputs": [
    {
     "name": "stdout",
     "output_type": "stream",
     "text": [
      "lucknow is in lower case\n",
      "DELHI is in upper case\n"
     ]
    }
   ],
   "source": [
    "city1 = input('Where do you live? ')\n",
    "if city1.islower():\n",
    "    print( city1,'is in lower case')\n",
    "else:\n",
    "    print(city1,'is in upper case')\n",
    "city2 = input('Where do you live? ')\n",
    "if city2.isupper():\n",
    "    print( city2,'is in upper case')\n",
    "else:\n",
    "    print(city2,'is in lower case')"
   ]
  },
  {
   "cell_type": "code",
   "execution_count": 17,
   "metadata": {},
   "outputs": [
    {
     "name": "stdout",
     "output_type": "stream",
     "text": [
      "Space is there\n"
     ]
    }
   ],
   "source": [
    "words = input(\"Enter a statement\")\n",
    "if words.isspace():\n",
    "    print('Space is there')\n",
    "else:\n",
    "    print('no space')\n",
    "    "
   ]
  },
  {
   "cell_type": "code",
   "execution_count": 22,
   "metadata": {},
   "outputs": [
    {
     "name": "stdout",
     "output_type": "stream",
     "text": [
      "shanza sayeed starts with 's' or 'a'\n",
      "sayeed ends with d\n"
     ]
    }
   ],
   "source": [
    "word1 = input('enter a word')\n",
    "if word1.startswith('s') or word1.startswith('a'):\n",
    "    print(word1 , \"starts with 's' or 'a'\")\n",
    "else:\n",
    "    print(word1, 'starts with another letter')\n",
    "word2 = input('enter a word')\n",
    "if word2.endswith( 'd') :\n",
    "    print(word2 , \"ends with d\")\n",
    "else:\n",
    "    print(word2, 'ends with another letter')\n",
    "\n"
   ]
  },
  {
   "cell_type": "code",
   "execution_count": 28,
   "metadata": {},
   "outputs": [
    {
     "name": "stdout",
     "output_type": "stream",
     "text": [
      "True\n"
     ]
    }
   ],
   "source": [
    "str1 = input(\"enter a string\")\n",
    "str2 =  str1.istitle()\n",
    "print(str2)"
   ]
  },
  {
   "attachments": {},
   "cell_type": "markdown",
   "metadata": {},
   "source": []
  },
  {
   "cell_type": "code",
   "execution_count": null,
   "metadata": {},
   "outputs": [],
   "source": []
  }
 ],
 "metadata": {
  "kernelspec": {
   "display_name": "base",
   "language": "python",
   "name": "python3"
  },
  "language_info": {
   "codemirror_mode": {
    "name": "ipython",
    "version": 3
   },
   "file_extension": ".py",
   "mimetype": "text/x-python",
   "name": "python",
   "nbconvert_exporter": "python",
   "pygments_lexer": "ipython3",
   "version": "3.10.10"
  },
  "orig_nbformat": 4
 },
 "nbformat": 4,
 "nbformat_minor": 2
}
