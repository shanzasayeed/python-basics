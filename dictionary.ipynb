{
 "cells": [
  {
   "attachments": {},
   "cell_type": "markdown",
   "metadata": {},
   "source": [
    "Dictionary"
   ]
  },
  {
   "attachments": {},
   "cell_type": "markdown",
   "metadata": {},
   "source": [
    "-ordered\n",
    "-mutable\n",
    "-heterogenous -data is stored in key value pairs\n",
    "              -keys are immutable and unique\n",
    "              -value can be mutable or immutablr and can be duplicate and have any type\n",
    "\n",
    "-unindexed\n",
    "-represented by {} curly braces\n",
    "-dict() that can take key value pair as argument.\n",
    "\n"
   ]
  },
  {
   "cell_type": "code",
   "execution_count": 1,
   "metadata": {},
   "outputs": [],
   "source": [
    "#creating dictionary\n",
    "fruits = {\n",
    "    \"apple\":2,\n",
    "    \"banana\":3,\n",
    "    \"orange\":5\n",
    "}"
   ]
  },
  {
   "cell_type": "code",
   "execution_count": 3,
   "metadata": {},
   "outputs": [],
   "source": [
    "grocery = {\n",
    "    'fruits':['apple','banana','orange','grape'],\n",
    "    'vegetables':['carrot','lettuce','onion'],\n",
    "    'dairy':['milk','cheese','yoghurt'],\n",
    "    'meat':None\n",
    "    }"
   ]
  },
  {
   "cell_type": "code",
   "execution_count": 12,
   "metadata": {},
   "outputs": [],
   "source": [
    "reports = {\n",
    "    'rajesh':{\n",
    "        'english':90,\n",
    "        'math':80,\n",
    "        'science': 68\n",
    "\n",
    "    },\n",
    "    'suresh':{\n",
    "        'english': 97,\n",
    "        'math':70,\n",
    "        'science': 88\n",
    "    },\n",
    "}"
   ]
  },
  {
   "cell_type": "code",
   "execution_count": 8,
   "metadata": {},
   "outputs": [],
   "source": [
    "from pprint import pp"
   ]
  },
  {
   "cell_type": "code",
   "execution_count": 13,
   "metadata": {},
   "outputs": [
    {
     "name": "stdout",
     "output_type": "stream",
     "text": [
      "{'apple': 2, 'banana': 3, 'orange': 5, 'mango': 25}\n",
      "{'fruits': ['apple', 'banana', 'orange', 'grape'],\n",
      " 'vegetables': ['carrot', 'lettuce', 'onion'],\n",
      " 'dairy': ['milk', 'cheese', 'yoghurt'],\n",
      " 'meat': None}\n",
      "{'rajesh': {'english': 90, 'math': 80, 'science': 68},\n",
      " 'suresh': {'english': 97, 'math': 70, 'science': 88}}\n"
     ]
    }
   ],
   "source": [
    "pp(fruits)\n",
    "pp(grocery)\n",
    "pp(reports)"
   ]
  },
  {
   "attachments": {},
   "cell_type": "markdown",
   "metadata": {},
   "source": [
    "fetch \n",
    "update \n",
    "adding\n",
    "deleting"
   ]
  },
  {
   "cell_type": "code",
   "execution_count": 9,
   "metadata": {},
   "outputs": [
    {
     "name": "stdout",
     "output_type": "stream",
     "text": [
      "{'apple': 2, 'banana': 3, 'orange': 5}\n"
     ]
    }
   ],
   "source": [
    "fruits['apple']   #retrieve value from dictionary\n",
    "pp(fruits)\n"
   ]
  },
  {
   "cell_type": "code",
   "execution_count": 11,
   "metadata": {},
   "outputs": [
    {
     "name": "stdout",
     "output_type": "stream",
     "text": [
      "{'apple': 2, 'banana': 3, 'orange': 5, 'mango': 25}\n"
     ]
    }
   ],
   "source": [
    "fruits['mango'] = 25 #add new key value pair in dictionary\n",
    "pp(fruits)"
   ]
  },
  {
   "cell_type": "code",
   "execution_count": 15,
   "metadata": {},
   "outputs": [
    {
     "name": "stdout",
     "output_type": "stream",
     "text": [
      "{'fruits': ['apple', 'banana', 'orange', 'grape'],\n",
      " 'vegetables': ['carrot', 'lettuce', 'onion'],\n",
      " 'dairy': ['milk', 'cheese', 'yoghurt'],\n",
      " 'meat': None,\n",
      " 'spices': ['cumin', 'coriander', 'turmeric']}\n"
     ]
    }
   ],
   "source": [
    "grocery['spices'] = ['cumin','coriander','turmeric'] #add new key-value pair in dictionary\n",
    "pp(grocery)"
   ]
  },
  {
   "cell_type": "code",
   "execution_count": 20,
   "metadata": {},
   "outputs": [
    {
     "data": {
      "text/plain": [
       "['apple', 'banana', 'orange', 'grape']"
      ]
     },
     "execution_count": 20,
     "metadata": {},
     "output_type": "execute_result"
    }
   ],
   "source": [
    "grocery['fruits']\n"
   ]
  },
  {
   "cell_type": "code",
   "execution_count": 21,
   "metadata": {},
   "outputs": [
    {
     "data": {
      "text/plain": [
       "list"
      ]
     },
     "execution_count": 21,
     "metadata": {},
     "output_type": "execute_result"
    }
   ],
   "source": [
    "type(grocery['fruits'])"
   ]
  },
  {
   "cell_type": "code",
   "execution_count": 22,
   "metadata": {},
   "outputs": [
    {
     "name": "stdout",
     "output_type": "stream",
     "text": [
      "{'fruits': ['apple', 'banana', 'orange', 'grape', 'mango'],\n",
      " 'vegetables': ['carrot', 'lettuce', 'onion'],\n",
      " 'dairy': ['milk', 'cheese', 'yoghurt'],\n",
      " 'meat': None,\n",
      " 'spices': ['cumin', 'coriander', 'turmeric']}\n"
     ]
    }
   ],
   "source": [
    "grocery['fruits'].append('mango') #add new value in list\n",
    "pp(grocery)"
   ]
  },
  {
   "cell_type": "code",
   "execution_count": 23,
   "metadata": {},
   "outputs": [
    {
     "name": "stdout",
     "output_type": "stream",
     "text": [
      "{'rajesh': {'english': 90, 'math': 80, 'science': 68, 'evs': 99},\n",
      " 'suresh': {'english': 97, 'math': 70, 'science': 88}}\n"
     ]
    }
   ],
   "source": [
    "reports['rajesh']['evs']=99\n",
    "pp(reports)"
   ]
  },
  {
   "cell_type": "code",
   "execution_count": 24,
   "metadata": {},
   "outputs": [
    {
     "data": {
      "text/plain": [
       "3"
      ]
     },
     "execution_count": 24,
     "metadata": {},
     "output_type": "execute_result"
    }
   ],
   "source": [
    "fruits.pop('banana')\n"
   ]
  },
  {
   "cell_type": "code",
   "execution_count": 25,
   "metadata": {},
   "outputs": [
    {
     "data": {
      "text/plain": [
       "{'english': 90, 'math': 80, 'science': 68, 'evs': 99}"
      ]
     },
     "execution_count": 25,
     "metadata": {},
     "output_type": "execute_result"
    }
   ],
   "source": [
    "reports.pop('rajesh')\n"
   ]
  },
  {
   "cell_type": "code",
   "execution_count": 26,
   "metadata": {},
   "outputs": [
    {
     "data": {
      "text/plain": [
       "{'suresh': {'english': 97, 'math': 70, 'science': 88}}"
      ]
     },
     "execution_count": 26,
     "metadata": {},
     "output_type": "execute_result"
    }
   ],
   "source": [
    "reports"
   ]
  },
  {
   "cell_type": "code",
   "execution_count": 27,
   "metadata": {},
   "outputs": [
    {
     "name": "stdout",
     "output_type": "stream",
     "text": [
      "{'fruits': ['apple', 'banana', 'orange', 'grape', 'mango'],\n",
      " 'vegetables': ['carrot', 'lettuce', 'onion'],\n",
      " 'dairy': ['milk', 'cheese', 'yoghurt'],\n",
      " 'meat': None,\n",
      " 'spices': ['cumin', 'coriander', 'turmeric']}\n"
     ]
    }
   ],
   "source": [
    "pp(grocery)"
   ]
  },
  {
   "cell_type": "code",
   "execution_count": 28,
   "metadata": {},
   "outputs": [],
   "source": [
    "grocery['vegetables'].remove('onion') #remove value from list"
   ]
  },
  {
   "cell_type": "code",
   "execution_count": 29,
   "metadata": {},
   "outputs": [
    {
     "data": {
      "text/plain": [
       "dict_keys(['apple', 'orange', 'mango'])"
      ]
     },
     "execution_count": 29,
     "metadata": {},
     "output_type": "execute_result"
    }
   ],
   "source": [
    "fruits.keys() #get all keys from dictionary"
   ]
  },
  {
   "cell_type": "code",
   "execution_count": 30,
   "metadata": {},
   "outputs": [
    {
     "data": {
      "text/plain": [
       "dict_values([2, 5, 25])"
      ]
     },
     "execution_count": 30,
     "metadata": {},
     "output_type": "execute_result"
    }
   ],
   "source": [
    "fruits.values()   #get all values from dictionary"
   ]
  },
  {
   "cell_type": "code",
   "execution_count": 31,
   "metadata": {},
   "outputs": [
    {
     "data": {
      "text/plain": [
       "dict_items([('apple', 2), ('orange', 5), ('mango', 25)])"
      ]
     },
     "execution_count": 31,
     "metadata": {},
     "output_type": "execute_result"
    }
   ],
   "source": [
    "fruits.items()    #get all key value pairs from dictionary"
   ]
  },
  {
   "cell_type": "code",
   "execution_count": 33,
   "metadata": {},
   "outputs": [
    {
     "name": "stdout",
     "output_type": "stream",
     "text": [
      "apple 2\n",
      "orange 5\n",
      "mango 25\n"
     ]
    }
   ],
   "source": [
    "#traversal\n",
    "for k,v in fruits.items():\n",
    "    print(k,v)"
   ]
  },
  {
   "cell_type": "code",
   "execution_count": 34,
   "metadata": {},
   "outputs": [
    {
     "data": {
      "text/plain": [
       "97"
      ]
     },
     "execution_count": 34,
     "metadata": {},
     "output_type": "execute_result"
    }
   ],
   "source": [
    "reports['suresh']['english']"
   ]
  },
  {
   "cell_type": "code",
   "execution_count": 38,
   "metadata": {},
   "outputs": [
    {
     "data": {
      "text/plain": [
       "{'english': 97, 'math': 70, 'science': 88}"
      ]
     },
     "execution_count": 38,
     "metadata": {},
     "output_type": "execute_result"
    }
   ],
   "source": [
    "reports.get('suresh')"
   ]
  },
  {
   "cell_type": "code",
   "execution_count": 42,
   "metadata": {},
   "outputs": [],
   "source": [
    "reports.get('ramesh')"
   ]
  },
  {
   "cell_type": "code",
   "execution_count": 44,
   "metadata": {},
   "outputs": [
    {
     "data": {
      "text/plain": [
       "{'english': 97, 'math': 70, 'science': 88}"
      ]
     },
     "execution_count": 44,
     "metadata": {},
     "output_type": "execute_result"
    }
   ],
   "source": [
    "reports.get('suresh', 'no student')"
   ]
  },
  {
   "cell_type": "code",
   "execution_count": 46,
   "metadata": {},
   "outputs": [
    {
     "name": "stdout",
     "output_type": "stream",
     "text": [
      "{'suresh': {'english': 97, 'math': 70, 'science': 88},\n",
      " 'sunita': {'english': 90, 'maths': 80, 'science': 78}}\n"
     ]
    }
   ],
   "source": [
    "reports['sunita'] = {\n",
    "    'english':90,\n",
    "    'maths':80,\n",
    "    'science':78\n",
    "    }\n",
    "pp(reports)"
   ]
  },
  {
   "cell_type": "code",
   "execution_count": 47,
   "metadata": {},
   "outputs": [
    {
     "name": "stdout",
     "output_type": "stream",
     "text": [
      "suresh\n",
      "97 in english\n",
      "------------------------------\n",
      "70 in math\n",
      "------------------------------\n",
      "88 in science\n",
      "------------------------------\n",
      "sunita\n",
      "90 in english\n",
      "------------------------------\n",
      "80 in maths\n",
      "------------------------------\n",
      "78 in science\n",
      "------------------------------\n"
     ]
    }
   ],
   "source": [
    "for student, details in reports.items():\n",
    "    print(student)\n",
    "    for subject,marks in details.items():\n",
    "        print(f'{marks} in {subject}')\n",
    "        print('---' *10)"
   ]
  },
  {
   "attachments": {},
   "cell_type": "markdown",
   "metadata": {},
   "source": [
    "# create a dictionary of 5 employee with details\n"
   ]
  },
  {
   "cell_type": "code",
   "execution_count": 51,
   "metadata": {},
   "outputs": [
    {
     "ename": "NameError",
     "evalue": "name 'Amit' is not defined",
     "output_type": "error",
     "traceback": [
      "\u001b[1;31m---------------------------------------------------------------------------\u001b[0m",
      "\u001b[1;31mNameError\u001b[0m                                 Traceback (most recent call last)",
      "Cell \u001b[1;32mIn[51], line 3\u001b[0m\n\u001b[0;32m      1\u001b[0m employee \u001b[39m=\u001b[39m {\n\u001b[0;32m      2\u001b[0m     \u001b[39m'\u001b[39m\u001b[39me1\u001b[39m\u001b[39m'\u001b[39m:{\n\u001b[1;32m----> 3\u001b[0m         \u001b[39m'\u001b[39m\u001b[39mname\u001b[39m\u001b[39m'\u001b[39m:Amit,\n\u001b[0;32m      4\u001b[0m         \u001b[39m'\u001b[39m\u001b[39mdepartment\u001b[39m\u001b[39m'\u001b[39m: HR,\n\u001b[0;32m      5\u001b[0m         \u001b[39m'\u001b[39m\u001b[39msalary\u001b[39m\u001b[39m'\u001b[39m: \u001b[39m80000\u001b[39m,\n\u001b[0;32m      6\u001b[0m         \u001b[39m'\u001b[39m\u001b[39mskills\u001b[39m\u001b[39m'\u001b[39m : [\u001b[39m'\u001b[39m\u001b[39mcommunication\u001b[39m\u001b[39m'\u001b[39m,\u001b[39m'\u001b[39m\u001b[39mmanagement\u001b[39m\u001b[39m'\u001b[39m],\n\u001b[0;32m      7\u001b[0m         \u001b[39m'\u001b[39m\u001b[39mprojects\u001b[39m\u001b[39m'\u001b[39m:{\n\u001b[0;32m      8\u001b[0m             \u001b[39m'\u001b[39m\u001b[39mproject1\u001b[39m\u001b[39m'\u001b[39m:{\n\u001b[0;32m      9\u001b[0m                 \u001b[39m'\u001b[39m\u001b[39mproject_name\u001b[39m\u001b[39m'\u001b[39m:\u001b[39m'\u001b[39m\u001b[39mHRMS\u001b[39m\u001b[39m'\u001b[39m,\n\u001b[0;32m     10\u001b[0m                 \u001b[39m'\u001b[39m\u001b[39mproject_duratin\u001b[39m\u001b[39m'\u001b[39m:\u001b[39m6\u001b[39m,\n\u001b[0;32m     11\u001b[0m                 \u001b[39m'\u001b[39m\u001b[39mproject_tech\u001b[39m\u001b[39m'\u001b[39m:[\u001b[39m'\u001b[39m\u001b[39mexcel\u001b[39m\u001b[39m'\u001b[39m,\u001b[39m'\u001b[39m\u001b[39mpower bi\u001b[39m\u001b[39m'\u001b[39m,\u001b[39m'\u001b[39m\u001b[39mpowerpoint\u001b[39m\u001b[39m'\u001b[39m]\n\u001b[0;32m     12\u001b[0m                                         }        }\n\u001b[0;32m     13\u001b[0m \n\u001b[0;32m     14\u001b[0m     }\n\u001b[0;32m     15\u001b[0m     \n\u001b[0;32m     16\u001b[0m     \n\u001b[0;32m     17\u001b[0m     \n\u001b[0;32m     18\u001b[0m }\n",
      "\u001b[1;31mNameError\u001b[0m: name 'Amit' is not defined"
     ]
    }
   ],
   "source": [
    "employee = {\n",
    "    'e1':{\n",
    "        'name': Amit,\n",
    "        'department': HR,\n",
    "        'salary': 80000,\n",
    "        'skills' : ['communication','management'],\n",
    "        'projects':{\n",
    "            'project1':{\n",
    "                'project_name':'HRMS',\n",
    "                'project_duratin':6,\n",
    "                'project_tech':['excel','power bi','powerpoint']\n",
    "                                        }        }\n",
    "\n",
    "    }\n",
    "    \n",
    "    \n",
    "    \n",
    "}"
   ]
  },
  {
   "cell_type": "code",
   "execution_count": null,
   "metadata": {},
   "outputs": [],
   "source": []
  }
 ],
 "metadata": {
  "kernelspec": {
   "display_name": "base",
   "language": "python",
   "name": "python3"
  },
  "language_info": {
   "codemirror_mode": {
    "name": "ipython",
    "version": 3
   },
   "file_extension": ".py",
   "mimetype": "text/x-python",
   "name": "python",
   "nbconvert_exporter": "python",
   "pygments_lexer": "ipython3",
   "version": "3.10.10"
  },
  "orig_nbformat": 4
 },
 "nbformat": 4,
 "nbformat_minor": 2
}
