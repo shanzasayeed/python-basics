{
 "cells": [
  {
   "attachments": {},
   "cell_type": "markdown",
   "metadata": {},
   "source": [
    "STRINGS"
   ]
  },
  {
   "cell_type": "code",
   "execution_count": 8,
   "metadata": {},
   "outputs": [
    {
     "name": "stdout",
     "output_type": "stream",
     "text": [
      "This is a string\n",
      "This is another string\n",
      "This is multiple string\n",
      "b'This is a byte string'\n",
      "This is a \n",
      "unicode string\n",
      "This is a \\nraw string\n"
     ]
    }
   ],
   "source": [
    "a = 'This is a string'  #single quote\n",
    "b = \"This is another string\"  #double quote\n",
    "c = '''This is multiple string'''\n",
    "d = b'This is a byte string'\n",
    "e = u'This is a \\nunicode string'\n",
    "f = r'This is a \\nraw string'\n",
    "print(a)\n",
    "print(b)\n",
    "print(c)\n",
    "print(d)\n",
    "print(e)\n",
    "print(f)\n",
    "\n"
   ]
  },
  {
   "cell_type": "code",
   "execution_count": 9,
   "metadata": {},
   "outputs": [
    {
     "name": "stdout",
     "output_type": "stream",
     "text": [
      "10\n"
     ]
    }
   ],
   "source": [
    "x = 10\n",
    "x = str(x)\n",
    "print(x)\n"
   ]
  },
  {
   "cell_type": "code",
   "execution_count": 10,
   "metadata": {},
   "outputs": [
    {
     "name": "stdout",
     "output_type": "stream",
     "text": [
      "str[0] =  d\n",
      "str[0] =  i\n",
      "str[0] =  m\n",
      "str[0] =  u\n"
     ]
    }
   ],
   "source": [
    "#accessing string characters in python\n",
    "#indexing\n",
    "str = 'digipodium'\n",
    "print('str[0] = ',str[0])  #print first charcter\n",
    "print('str[0] = ',str[1])  #print second charcter\n",
    "print('str[0] = ',str[-1])  #print lastcharcter\n",
    "print('str[0] = ',str[-2])  #print second last charcter\n"
   ]
  },
  {
   "cell_type": "code",
   "execution_count": 30,
   "metadata": {},
   "outputs": [
    {
     "name": "stdout",
     "output_type": "stream",
     "text": [
      "pod\n"
     ]
    }
   ],
   "source": [
    "#slicing\n",
    "str = 'digipodium'\n",
    "s1 = str[4:7]\n",
    "print(s1)"
   ]
  },
  {
   "cell_type": "code",
   "execution_count": 15,
   "metadata": {},
   "outputs": [
    {
     "name": "stdout",
     "output_type": "stream",
     "text": [
      "Vijay\n",
      "Deenanath\n",
      "Chauhan\n"
     ]
    }
   ],
   "source": [
    "name = 'Vijay Deenanath Chauhan'\n",
    "s2 = name[0:5]\n",
    "print(s2)\n",
    "s3 = name[6:15]\n",
    "print(s3)\n",
    "s4 = name [-7:]\n",
    "print(s4)"
   ]
  },
  {
   "cell_type": "code",
   "execution_count": 48,
   "metadata": {},
   "outputs": [
    {
     "name": "stdout",
     "output_type": "stream",
     "text": [
      "23\n",
      "CHAUHAN\n"
     ]
    }
   ],
   "source": [
    "name =  \"VIJAY DEENANATH CHAUHAN\"\n",
    "print(len(name))\n",
    "fname = name[-7:]\n",
    "print(fname)\n"
   ]
  },
  {
   "cell_type": "code",
   "execution_count": 16,
   "metadata": {},
   "outputs": [
    {
     "name": "stdout",
     "output_type": "stream",
     "text": [
      "VjyDeaahCahn\n",
      "VyeaCh\n"
     ]
    }
   ],
   "source": [
    "#range function\n",
    "n1 = name[::2]\n",
    "n2 = name[::4]\n",
    "print(n1)\n",
    "print(n2)\n",
    "\n"
   ]
  },
  {
   "cell_type": "code",
   "execution_count": 17,
   "metadata": {},
   "outputs": [
    {
     "name": "stdout",
     "output_type": "stream",
     "text": [
      "nahuahC htananeeD yajiV\n",
      "nahaDj\n"
     ]
    }
   ],
   "source": [
    "#negative indexes or to reverse a string\n",
    "n3 = name[::-1]\n",
    "n4 = name[::-4]\n",
    "print(n3)\n",
    "print(n4)"
   ]
  },
  {
   "cell_type": "code",
   "execution_count": 25,
   "metadata": {},
   "outputs": [
    {
     "name": "stdout",
     "output_type": "stream",
     "text": [
      "invalid input\n"
     ]
    }
   ],
   "source": [
    "\n",
    "#validation methods\n",
    "x = input('enter a number :')\n",
    "if x.isnumeric():\n",
    "    x=int(x)\n",
    "    print(x)\n",
    "else:\n",
    "    print('invalid input')"
   ]
  },
  {
   "cell_type": "code",
   "execution_count": 26,
   "metadata": {},
   "outputs": [
    {
     "name": "stdout",
     "output_type": "stream",
     "text": [
      "hello shanza\n"
     ]
    }
   ],
   "source": [
    "uname = input('enter your name')\n",
    "if uname.isalnum():\n",
    "    print('hello',uname)\n",
    "else:\n",
    "    print('invalid input')    "
   ]
  },
  {
   "cell_type": "code",
   "execution_count": 3,
   "metadata": {},
   "outputs": [
    {
     "name": "stdout",
     "output_type": "stream",
     "text": [
      "not special\n"
     ]
    }
   ],
   "source": [
    "uname = input('enter your name')\n",
    "if not uname.isalnum():\n",
    "    print('must be a special character')\n",
    "else:\n",
    "    print('not special')\n"
   ]
  },
  {
   "cell_type": "code",
   "execution_count": 2,
   "metadata": {},
   "outputs": [
    {
     "name": "stdout",
     "output_type": "stream",
     "text": [
      "Welcome Mr.Anand\n",
      "Welcome Mrs. Vijay\n",
      "Welcome Mrs. Ravi\n",
      "You are not allowed Er. Rajesh\n",
      "Welcome Mr. Ramesh\n"
     ]
    }
   ],
   "source": [
    "names = ['Mr.Anand','Mrs. Vijay','Mrs. Ravi', 'Er. Rajesh' ,'Mr. Ramesh']\n",
    "for name in names:\n",
    "    if name.startswith('Mr.') or name.startswith('Mrs.'):\n",
    "        print(f'Welcome {name}')\n",
    "    else:\n",
    "        print(f'You are not allowed {name}')\n"
   ]
  },
  {
   "cell_type": "code",
   "execution_count": 23,
   "metadata": {},
   "outputs": [
    {
     "name": "stdout",
     "output_type": "stream",
     "text": [
      "abc.txt    text file\n",
      "xyz.doc    unknown file\n",
      "pqr.py     python file\n",
      "mno.py     python file\n",
      "def.txt    text file\n"
     ]
    }
   ],
   "source": [
    "files = ['abc.txt','xyz.doc','pqr.py','mno.py' , 'def.txt']\n",
    "for item in files:\n",
    "    if item.endswith('.txt'):\n",
    "        print(f'{item:10} text file')\n",
    "    elif item.endswith('.py'):\n",
    "        print(f'{item:10} python file')\n",
    "    else:\n",
    "        print(f'{item:10} unknown file')\n"
   ]
  },
  {
   "cell_type": "code",
   "execution_count": 31,
   "metadata": {},
   "outputs": [
    {
     "name": "stdout",
     "output_type": "stream",
     "text": [
      " JOURNEY BEFORE DESTINATION\n",
      " journey before destination\n",
      " Journey Before Destination\n",
      " journey before destination\n",
      " JOURNEY BEFORE DESTINATION\n",
      " journey before destination\n"
     ]
    }
   ],
   "source": [
    "#formatting methods\n",
    "name = ' journey before destination'\n",
    "print(name.upper())\n",
    "print(name.lower())\n",
    "print(name.title())\n",
    "print(name.capitalize())\n",
    "print(name.swapcase())\n",
    "print(name.casefold())\n",
    "\n"
   ]
  },
  {
   "cell_type": "code",
   "execution_count": 33,
   "metadata": {},
   "outputs": [
    {
     "name": "stdout",
     "output_type": "stream",
     "text": [
      "4\n",
      "4\n"
     ]
    }
   ],
   "source": [
    "#utility methods\n",
    "s ='this is an example string,this is a simple string'\n",
    "print( s.count('is'))\n",
    "print(s.count('t'))\n",
    "\n"
   ]
  },
  {
   "cell_type": "code",
   "execution_count": 33,
   "metadata": {},
   "outputs": [
    {
     "name": "stdout",
     "output_type": "stream",
     "text": [
      "13\n"
     ]
    }
   ],
   "source": [
    "tv = s.count('a') + s.count('e') + s.count('i') + s.count('o') + s.count('u')\n",
    "print(tv)"
   ]
  },
  {
   "cell_type": "code",
   "execution_count": 34,
   "metadata": {},
   "outputs": [
    {
     "name": "stdout",
     "output_type": "stream",
     "text": [
      "11\n",
      "2\n",
      "5\n",
      "28\n",
      "11\n"
     ]
    }
   ],
   "source": [
    "\n",
    "\n",
    "\n",
    "print(s.find('example'))\n",
    "print(s.find('is'))\n",
    "print(s.find('is' ,3))\n",
    "print(s.find('is' ,6))\n",
    "print(s.find('ex'))\n",
    "\n"
   ]
  },
  {
   "cell_type": "code",
   "execution_count": 35,
   "metadata": {},
   "outputs": [
    {
     "data": {
      "text/plain": [
       "'thwas was an example string,thwas was a simple string'"
      ]
     },
     "execution_count": 35,
     "metadata": {},
     "output_type": "execute_result"
    }
   ],
   "source": [
    "s.replace('is','was')"
   ]
  },
  {
   "cell_type": "code",
   "execution_count": 40,
   "metadata": {},
   "outputs": [
    {
     "name": "stdout",
     "output_type": "stream",
     "text": [
      "['this', 'is', 'an', 'example', 'string,this', 'is', 'a', 'simple', 'string']\n"
     ]
    }
   ],
   "source": [
    "words = s.split()\n",
    "print(words)\n"
   ]
  },
  {
   "cell_type": "code",
   "execution_count": 36,
   "metadata": {},
   "outputs": [
    {
     "data": {
      "text/plain": [
       "['this is an example string', 'this is a simple string']"
      ]
     },
     "execution_count": 36,
     "metadata": {},
     "output_type": "execute_result"
    }
   ],
   "source": [
    "s.split(',')\n"
   ]
  },
  {
   "cell_type": "code",
   "execution_count": 43,
   "metadata": {},
   "outputs": [
    {
     "data": {
      "text/plain": [
       "'one two three four'"
      ]
     },
     "execution_count": 43,
     "metadata": {},
     "output_type": "execute_result"
    }
   ],
   "source": [
    "words= ['one','two','three','four']\n",
    "\" \" .join(words)\n"
   ]
  },
  {
   "cell_type": "code",
   "execution_count": 37,
   "metadata": {},
   "outputs": [
    {
     "name": "stdout",
     "output_type": "stream",
     "text": [
      "     shanza  \n",
      " \n",
      "    \n",
      "shanza\n"
     ]
    }
   ],
   "source": [
    "x = '     shanza  \\n \\n    '\n",
    "print(x)\n",
    "print(x.strip())\n"
   ]
  },
  {
   "cell_type": "code",
   "execution_count": 1,
   "metadata": {},
   "outputs": [
    {
     "name": "stdout",
     "output_type": "stream",
     "text": [
      "     shanza  \n",
      "\n",
      "   \n",
      "shanza\n"
     ]
    }
   ],
   "source": [
    "x = '     shanza  \\n\\n   '\n",
    "print(x)\n",
    "print(x.strip())"
   ]
  },
  {
   "cell_type": "code",
   "execution_count": null,
   "metadata": {},
   "outputs": [],
   "source": []
  }
 ],
 "metadata": {
  "kernelspec": {
   "display_name": "base",
   "language": "python",
   "name": "python3"
  },
  "language_info": {
   "codemirror_mode": {
    "name": "ipython",
    "version": 3
   },
   "file_extension": ".py",
   "mimetype": "text/x-python",
   "name": "python",
   "nbconvert_exporter": "python",
   "pygments_lexer": "ipython3",
   "version": "3.10.10"
  },
  "orig_nbformat": 4
 },
 "nbformat": 4,
 "nbformat_minor": 2
}
