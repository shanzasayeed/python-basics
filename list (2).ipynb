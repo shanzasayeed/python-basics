{
 "cells": [
  {
   "cell_type": "code",
   "execution_count": 1,
   "metadata": {},
   "outputs": [],
   "source": [
    "x=[1,2,3,4,5,6,7,8,9,10]\n",
    "y=[]\n",
    "z=['apple','cherry','banana','orange']\n",
    "a=['alex',5,'sam',7,'john',10]\n",
    "a3=[[1,2,3],\n",
    "    [4,5,6],\n",
    "    [7,8,9]]\n"
   ]
  },
  {
   "cell_type": "code",
   "execution_count": 16,
   "metadata": {},
   "outputs": [],
   "source": [
    "class Movie:\n",
    "    def __init__(self,name,year):\n",
    "        self.name=name\n",
    "        self.year=year\n",
    "   "
   ]
  },
  {
   "cell_type": "code",
   "execution_count": 13,
   "metadata": {},
   "outputs": [],
   "source": [
    "movies=[\n",
    "        Movie(\"the matrix\",1999),\n",
    "        Movie(\"the matrix reloaded\",2003),\n",
    "        Movie(\"The matrix revolutions\",2003),\n",
    "        Movie(\"the matrix resurrection\",2021)\n",
    "       ]"
   ]
  },
  {
   "cell_type": "code",
   "execution_count": 1,
   "metadata": {},
   "outputs": [
    {
     "data": {
      "text/plain": [
       "['S',\n",
       " 'h',\n",
       " 'a',\n",
       " 'n',\n",
       " 'z',\n",
       " 'a',\n",
       " ' ',\n",
       " 'S',\n",
       " 'a',\n",
       " 'y',\n",
       " 'e',\n",
       " 'e',\n",
       " 'd',\n",
       " ' ',\n",
       " 'S',\n",
       " 'i',\n",
       " 'd',\n",
       " 'd',\n",
       " 'i',\n",
       " 'q',\n",
       " 'u',\n",
       " 'i']"
      ]
     },
     "execution_count": 1,
     "metadata": {},
     "output_type": "execute_result"
    }
   ],
   "source": [
    "name = 'Shanza Sayeed Siddiqui'\n",
    "list(name)"
   ]
  },
  {
   "cell_type": "code",
   "execution_count": 6,
   "metadata": {},
   "outputs": [
    {
     "name": "stdout",
     "output_type": "stream",
     "text": [
      "[1, 2, 3, 4, 5, 6, 7, 8, 9, 10, 11, 12, 13, 14, 15, 16, 17, 18, 19, 20, 21, 22, 23, 24, 25, 26, 27, 28, 29, 30, 31, 32, 33, 34, 35, 36, 37, 38, 39, 40, 41, 42, 43, 44, 45, 46, 47, 48, 49, 50, 51, 52, 53, 54, 55, 56, 57, 58, 59, 60, 61, 62, 63, 64, 65, 66, 67, 68, 69, 70, 71, 72, 73, 74, 75, 76, 77, 78, 79, 80, 81, 82, 83, 84, 85, 86, 87, 88, 89, 90, 91, 92, 93, 94, 95, 96, 97, 98, 99, 100]\n",
      "alex\n",
      "10\n",
      "john\n",
      "5\n"
     ]
    }
   ],
   "source": [
    "print(list(range(1,101)))\n",
    "print(a[0])\n",
    "print(a[-1])\n",
    "print(a[-2])\n",
    "print(a[1])\n",
    "\n"
   ]
  },
  {
   "cell_type": "code",
   "execution_count": 2,
   "metadata": {},
   "outputs": [
    {
     "name": "stdout",
     "output_type": "stream",
     "text": [
      "[1, 2, 3, 4, 5, 6, 7, 8, 9, 10]\n",
      "[11, 12, 13, 14, 15, 16, 17, 18, 19, 20]\n",
      "[91, 92, 93, 94, 95, 96, 97, 98, 99, 100]\n",
      "[24, 25, 26, 27, 28, 29, 30, 31, 32, 33, 34, 35, 36]\n",
      "[2, 4, 6, 8, 10, 12, 14, 16, 18, 20, 22, 24, 26, 28, 30, 32, 34, 36, 38, 40, 42, 44, 46, 48, 50, 52, 54, 56, 58, 60, 62, 64, 66, 68, 70, 72, 74, 76, 78, 80, 82, 84, 86, 88, 90, 92, 94, 96, 98, 100]\n",
      "[100, 99, 98, 97, 96, 95, 94, 93, 92, 91, 90, 89, 88, 87, 86, 85, 84, 83, 82, 81, 80, 79, 78, 77, 76, 75, 74, 73, 72, 71, 70, 69, 68, 67, 66, 65, 64, 63, 62, 61, 60, 59, 58, 57, 56, 55, 54, 53, 52, 51, 50, 49, 48, 47, 46, 45, 44, 43, 42, 41, 40, 39, 38, 37, 36, 35, 34, 33, 32, 31, 30, 29, 28, 27, 26, 25, 24, 23, 22, 21, 20, 19, 18, 17, 16, 15, 14, 13, 12, 11, 10, 9, 8, 7, 6, 5, 4, 3, 2, 1]\n",
      "[6, 5]\n"
     ]
    }
   ],
   "source": [
    "data=list(range(1,101))\n",
    "print(data[:10])\n",
    "print(data[10:20])\n",
    "print(data[-10:])  #last 10 elements\n",
    "print(data[23:36])\n",
    "print(data[1::2]) #evennumbers\n",
    "print(data[::-1]) #reverse list\n",
    "print(data[5:3:-1]) #reverse slice\n"
   ]
  },
  {
   "cell_type": "code",
   "execution_count": 8,
   "metadata": {},
   "outputs": [
    {
     "name": "stdout",
     "output_type": "stream",
     "text": [
      "alex\n",
      "5\n",
      "sam\n",
      "7\n",
      "john\n",
      "10\n"
     ]
    }
   ],
   "source": [
    "for item in a:\n",
    "    print(item)\n",
    "    "
   ]
  },
  {
   "cell_type": "code",
   "execution_count": 8,
   "metadata": {},
   "outputs": [],
   "source": [
    "movies = []\n",
    "movies.append('Shrek')\n",
    "movies.append('inception')\n",
    "movies.append('the matrx')\n",
    "movies.append('kung fu panda')\n",
    "movies.append('Interstellar')\n",
    "movies.append('Fast and furios 1')\n",
    "movies.append('Fast and furios 2')\n",
    "movies.append('Fast and furios 3')\n",
    "movies.append('Fast and furios 4')\n",
    "movies.append('Fast and furios 5')"
   ]
  },
  {
   "cell_type": "code",
   "execution_count": 9,
   "metadata": {},
   "outputs": [
    {
     "name": "stdout",
     "output_type": "stream",
     "text": [
      "['Shrek', 'inception', 'the matrx', 'kung fu panda', 'Interstellar', 'Fast and furios 1', 'Fast and furios 2', 'Fast and furios 3', 'Fast and furios 4', 'Fast and furios 5']\n"
     ]
    }
   ],
   "source": [
    "print(movies)"
   ]
  },
  {
   "cell_type": "code",
   "execution_count": 13,
   "metadata": {},
   "outputs": [
    {
     "data": {
      "text/plain": [
       "['Shrek',\n",
       " 'inception',\n",
       " 'inception',\n",
       " 'kung fu panda',\n",
       " 'Interstellar',\n",
       " 'Fast and furios 1',\n",
       " 'Fast and furios 2',\n",
       " 'Fast and furios 3',\n",
       " 'Fast and furios 4',\n",
       " 'Fast and furios 5']"
      ]
     },
     "execution_count": 13,
     "metadata": {},
     "output_type": "execute_result"
    }
   ],
   "source": [
    "movies[2]='inception'  #update\n",
    "movies"
   ]
  },
  {
   "cell_type": "code",
   "execution_count": 14,
   "metadata": {},
   "outputs": [
    {
     "data": {
      "text/plain": [
       "['Shrek',\n",
       " 'inception',\n",
       " 'inception',\n",
       " 'kung fu panda',\n",
       " 'kung fu panda 2',\n",
       " 'Interstellar',\n",
       " 'Fast and furios 1',\n",
       " 'Fast and furios 2',\n",
       " 'Fast and furios 3',\n",
       " 'Fast and furios 4',\n",
       " 'Fast and furios 5']"
      ]
     },
     "execution_count": 14,
     "metadata": {},
     "output_type": "execute_result"
    }
   ],
   "source": [
    "movies.insert(4,'kung fu panda 2')    #insert\n",
    "movies"
   ]
  },
  {
   "cell_type": "code",
   "execution_count": 20,
   "metadata": {},
   "outputs": [
    {
     "name": "stdout",
     "output_type": "stream",
     "text": [
      "['death note', 'naruto', 'one piece', 'akira', 'levi']\n"
     ]
    }
   ],
   "source": [
    "animelist=[]\n",
    "for i in range(5):\n",
    "    name=input(\"enter an anime\")\n",
    "    animelist.append(name)\n",
    "print(animelist)\n"
   ]
  },
  {
   "cell_type": "code",
   "execution_count": 19,
   "metadata": {},
   "outputs": [
    {
     "data": {
      "text/plain": [
       "[1, 2, 3, 4, 5, 6, 7, 8]"
      ]
     },
     "execution_count": 19,
     "metadata": {},
     "output_type": "execute_result"
    }
   ],
   "source": [
    "x=[1,2,3,4]\n",
    "y=[5,6,7,8]\n",
    "x+y    #create a new list\n"
   ]
  },
  {
   "cell_type": "code",
   "execution_count": 18,
   "metadata": {},
   "outputs": [
    {
     "name": "stdout",
     "output_type": "stream",
     "text": [
      "[1, 2, 3, 4, 5, 6, 7, 8]\n"
     ]
    }
   ],
   "source": [
    "x.extend(y)    #modifies x\n",
    "print(x)\n"
   ]
  },
  {
   "cell_type": "code",
   "execution_count": 23,
   "metadata": {},
   "outputs": [],
   "source": [
    "movies.remove('Fast and furios 3')   #the first occurance will be removed\n",
    "\n",
    "\n"
   ]
  },
  {
   "cell_type": "code",
   "execution_count": 24,
   "metadata": {},
   "outputs": [
    {
     "data": {
      "text/plain": [
       "'Fast and furios 5'"
      ]
     },
     "execution_count": 24,
     "metadata": {},
     "output_type": "execute_result"
    }
   ],
   "source": [
    "movies.pop()   #remove the last element\n"
   ]
  },
  {
   "cell_type": "code",
   "execution_count": 25,
   "metadata": {},
   "outputs": [
    {
     "data": {
      "text/plain": [
       "'Interstellar'"
      ]
     },
     "execution_count": 25,
     "metadata": {},
     "output_type": "execute_result"
    }
   ],
   "source": [
    "movies.pop(5)    #remove 5th index element\n"
   ]
  },
  {
   "cell_type": "code",
   "execution_count": 27,
   "metadata": {},
   "outputs": [
    {
     "data": {
      "text/plain": [
       "['Shrek',\n",
       " 'inception',\n",
       " 'inception',\n",
       " 'kung fu panda',\n",
       " 'kung fu panda 2',\n",
       " 'Fast and furios 1',\n",
       " 'Fast and furios 4']"
      ]
     },
     "execution_count": 27,
     "metadata": {},
     "output_type": "execute_result"
    }
   ],
   "source": [
    "movies"
   ]
  },
  {
   "cell_type": "code",
   "execution_count": 29,
   "metadata": {},
   "outputs": [],
   "source": [
    "value= 'Shrek'\n",
    "if value in movies:\n",
    "    movies.remove(value)\n",
    "else:\n",
    "    print('value not found')\n"
   ]
  },
  {
   "cell_type": "code",
   "execution_count": 30,
   "metadata": {},
   "outputs": [
    {
     "data": {
      "text/plain": [
       "['inception',\n",
       " 'inception',\n",
       " 'kung fu panda',\n",
       " 'kung fu panda 2',\n",
       " 'Fast and furios 1',\n",
       " 'Fast and furios 4']"
      ]
     },
     "execution_count": 30,
     "metadata": {},
     "output_type": "execute_result"
    }
   ],
   "source": [
    "movies"
   ]
  },
  {
   "cell_type": "code",
   "execution_count": 33,
   "metadata": {},
   "outputs": [],
   "source": [
    "movies.clear()   #removes all elements\n"
   ]
  },
  {
   "cell_type": "code",
   "execution_count": 34,
   "metadata": {},
   "outputs": [
    {
     "data": {
      "text/plain": [
       "[]"
      ]
     },
     "execution_count": 34,
     "metadata": {},
     "output_type": "execute_result"
    }
   ],
   "source": [
    "movies"
   ]
  },
  {
   "cell_type": "code",
   "execution_count": 35,
   "metadata": {},
   "outputs": [],
   "source": [
    "del a   #deletes a variable from memory\n"
   ]
  },
  {
   "cell_type": "code",
   "execution_count": 39,
   "metadata": {},
   "outputs": [],
   "source": [
    "books = [\n",
    "    'the final empire',\n",
    "    'hero of ages',\n",
    "    'well of ascension',\n",
    "    'the way of kings',\n",
    "    'words of radiance',\n",
    "    'rythm of war',\n",
    "    'white sand'\n",
    "]"
   ]
  },
  {
   "cell_type": "code",
   "execution_count": 40,
   "metadata": {},
   "outputs": [
    {
     "data": {
      "text/plain": [
       "6"
      ]
     },
     "execution_count": 40,
     "metadata": {},
     "output_type": "execute_result"
    }
   ],
   "source": [
    "books.index('white sand')"
   ]
  },
  {
   "cell_type": "code",
   "execution_count": 10,
   "metadata": {},
   "outputs": [
    {
     "name": "stdout",
     "output_type": "stream",
     "text": [
      "2\n",
      "5\n",
      "1\n"
     ]
    }
   ],
   "source": [
    "x = [12,34,54,22,12,1,2,12,1,2,12,12,0,87,65]\n",
    "print(x.count(1))\n",
    "print(x.count(12))\n",
    "print(x.count(34))\n"
   ]
  },
  {
   "cell_type": "code",
   "execution_count": 41,
   "metadata": {},
   "outputs": [
    {
     "name": "stdout",
     "output_type": "stream",
     "text": [
      "['white sand', 'rythm of war', 'words of radiance', 'the way of kings', 'well of ascension', 'hero of ages', 'the final empire']\n"
     ]
    }
   ],
   "source": [
    "books.reverse()\n",
    "print(books)\n"
   ]
  },
  {
   "cell_type": "code",
   "execution_count": 42,
   "metadata": {},
   "outputs": [
    {
     "name": "stdout",
     "output_type": "stream",
     "text": [
      "['hero of ages', 'rythm of war', 'the final empire', 'the way of kings', 'well of ascension', 'white sand', 'words of radiance']\n"
     ]
    }
   ],
   "source": [
    "books.sort()      #sorts data in ascending order of same data type\n",
    "print(books)\n",
    " "
   ]
  },
  {
   "cell_type": "code",
   "execution_count": 43,
   "metadata": {},
   "outputs": [
    {
     "name": "stdout",
     "output_type": "stream",
     "text": [
      "['words of radiance', 'white sand', 'well of ascension', 'the way of kings', 'the final empire', 'rythm of war', 'hero of ages']\n"
     ]
    }
   ],
   "source": [
    "books.sort(reverse=True)\n",
    "print(books)\n"
   ]
  },
  {
   "cell_type": "code",
   "execution_count": 44,
   "metadata": {},
   "outputs": [
    {
     "data": {
      "text/plain": [
       "['words of radiance',\n",
       " 'white sand',\n",
       " 'well of ascension',\n",
       " 'the way of kings',\n",
       " 'the final empire',\n",
       " 'rythm of war',\n",
       " 'hero of ages']"
      ]
     },
     "execution_count": 44,
     "metadata": {},
     "output_type": "execute_result"
    }
   ],
   "source": [
    "books"
   ]
  },
  {
   "cell_type": "code",
   "execution_count": 45,
   "metadata": {},
   "outputs": [],
   "source": [
    "books_backup = books.copy()   #a copy of variable is created at a different memory location\n"
   ]
  },
  {
   "cell_type": "code",
   "execution_count": 46,
   "metadata": {},
   "outputs": [],
   "source": [
    "books2 = books   #both variables point to the same memory location"
   ]
  },
  {
   "cell_type": "code",
   "execution_count": 47,
   "metadata": {},
   "outputs": [
    {
     "name": "stdout",
     "output_type": "stream",
     "text": [
      "['words of radiance', 'white sand', 'well of ascension', 'the way of kings', 'the final empire', 'rythm of war', 'hero of ages', 'the alloy of law']\n",
      "['words of radiance', 'white sand', 'well of ascension', 'the way of kings', 'the final empire', 'rythm of war', 'hero of ages', 'the alloy of law']\n",
      "['words of radiance', 'white sand', 'well of ascension', 'the way of kings', 'the final empire', 'rythm of war', 'hero of ages']\n"
     ]
    }
   ],
   "source": [
    "books.append('the alloy of law')\n",
    "print(books)\n",
    "print(books2)\n",
    "print(books_backup)\n"
   ]
  },
  {
   "cell_type": "code",
   "execution_count": 48,
   "metadata": {},
   "outputs": [
    {
     "data": {
      "text/plain": [
       "True"
      ]
     },
     "execution_count": 48,
     "metadata": {},
     "output_type": "execute_result"
    }
   ],
   "source": [
    "books2 is books      #check if memory location is same"
   ]
  },
  {
   "cell_type": "code",
   "execution_count": 50,
   "metadata": {},
   "outputs": [
    {
     "data": {
      "text/plain": [
       "False"
      ]
     },
     "execution_count": 50,
     "metadata": {},
     "output_type": "execute_result"
    }
   ],
   "source": [
    "books is books_backup"
   ]
  },
  {
   "cell_type": "code",
   "execution_count": null,
   "metadata": {},
   "outputs": [],
   "source": []
  }
 ],
 "metadata": {
  "kernelspec": {
   "display_name": "base",
   "language": "python",
   "name": "python3"
  },
  "language_info": {
   "codemirror_mode": {
    "name": "ipython",
    "version": 3
   },
   "file_extension": ".py",
   "mimetype": "text/x-python",
   "name": "python",
   "nbconvert_exporter": "python",
   "pygments_lexer": "ipython3",
   "version": "3.10.10"
  },
  "orig_nbformat": 4
 },
 "nbformat": 4,
 "nbformat_minor": 2
}
