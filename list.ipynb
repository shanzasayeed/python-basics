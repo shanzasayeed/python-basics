{
 "cells": [
  {
   "cell_type": "code",
   "execution_count": 3,
   "metadata": {},
   "outputs": [
    {
     "name": "stdout",
     "output_type": "stream",
     "text": [
      "[1, 'Shanza', 54.0]\n"
     ]
    },
    {
     "data": {
      "text/plain": [
       "[1, 'Shanza', 54.0]"
      ]
     },
     "execution_count": 3,
     "metadata": {},
     "output_type": "execute_result"
    }
   ],
   "source": [
    "#printing\n",
    "l=[1,'Shanza',54.0]\n",
    "print(l)\n",
    "l"
   ]
  },
  {
   "cell_type": "code",
   "execution_count": 4,
   "metadata": {},
   "outputs": [
    {
     "data": {
      "text/plain": [
       "[1, 'Shanza', 54.0]"
      ]
     },
     "execution_count": 4,
     "metadata": {},
     "output_type": "execute_result"
    }
   ],
   "source": [
    "l"
   ]
  },
  {
   "cell_type": "code",
   "execution_count": 2,
   "metadata": {},
   "outputs": [
    {
     "name": "stdout",
     "output_type": "stream",
     "text": [
      "3\n"
     ]
    }
   ],
   "source": [
    "#length\n",
    "print(len(l))"
   ]
  },
  {
   "cell_type": "code",
   "execution_count": 4,
   "metadata": {},
   "outputs": [
    {
     "name": "stdout",
     "output_type": "stream",
     "text": [
      "Shanza\n"
     ]
    }
   ],
   "source": [
    "#indexing\n",
    "print(l[1])"
   ]
  },
  {
   "cell_type": "code",
   "execution_count": 6,
   "metadata": {},
   "outputs": [
    {
     "name": "stdout",
     "output_type": "stream",
     "text": [
      "['s', 'h', 'a', 'n', 'z', 'a', ' ', 's', 'a', 'y', 'e', 'e', 'd', ' ', 's', 'i', 'd', 'd', 'i', 'q', 'u', 'i']\n"
     ]
    }
   ],
   "source": [
    "#converting string to list\n",
    "name='shanza sayeed siddiqui'\n",
    "print(list(name))"
   ]
  },
  {
   "cell_type": "code",
   "execution_count": 7,
   "metadata": {},
   "outputs": [
    {
     "name": "stdout",
     "output_type": "stream",
     "text": [
      "[1, 2, 3, 4, 5, 6, 7, 8, 9, 10, 11, 12, 13, 14, 15, 16, 17, 18, 19, 20, 21, 22, 23, 24, 25, 26, 27, 28, 29, 30, 31, 32, 33, 34, 35, 36, 37, 38, 39, 40, 41, 42, 43, 44, 45, 46, 47, 48, 49, 50, 51, 52, 53, 54, 55, 56, 57, 58, 59, 60, 61, 62, 63, 64, 65, 66, 67, 68, 69, 70, 71, 72, 73, 74, 75, 76, 77, 78, 79, 80, 81, 82, 83, 84, 85, 86, 87, 88, 89, 90, 91, 92, 93, 94, 95, 96, 97, 98, 99, 100]\n"
     ]
    }
   ],
   "source": [
    "#printing a list of given range of numbers\n",
    "print(list(range(1,101)))"
   ]
  },
  {
   "cell_type": "code",
   "execution_count": 9,
   "metadata": {},
   "outputs": [
    {
     "name": "stdout",
     "output_type": "stream",
     "text": [
      "Jaipur\n",
      "Lucknow\n",
      "Delhi\n",
      "Mumbai\n"
     ]
    }
   ],
   "source": [
    "#printing elements of list\n",
    "list1=['Jaipur', 'Lucknow','Delhi','Mumbai']\n",
    "for i in list1:\n",
    "    print(i)"
   ]
  },
  {
   "cell_type": "code",
   "execution_count": 10,
   "metadata": {},
   "outputs": [
    {
     "name": "stdout",
     "output_type": "stream",
     "text": [
      "['Jaipur', 'Lucknow', 'Delhi', 'Mumbai', 'Kanpur']\n"
     ]
    }
   ],
   "source": [
    "#append\n",
    "list1.append('Kanpur')\n",
    "print(list1)"
   ]
  },
  {
   "cell_type": "code",
   "execution_count": 11,
   "metadata": {},
   "outputs": [
    {
     "name": "stdout",
     "output_type": "stream",
     "text": [
      "['Jaipur', 'Lucknow', 'Chennai', 'Mumbai', 'Kanpur']\n"
     ]
    }
   ],
   "source": [
    "#update\n",
    "list1[2]='Chennai'\n",
    "print(list1)"
   ]
  },
  {
   "cell_type": "code",
   "execution_count": 12,
   "metadata": {},
   "outputs": [
    {
     "name": "stdout",
     "output_type": "stream",
     "text": [
      "['Jaipur', 'Lucknow', 'Delhi', 'Chennai', 'Mumbai', 'Kanpur']\n"
     ]
    }
   ],
   "source": [
    "#insert\n",
    "list1.insert(2,'Delhi')\n",
    "print(list1)"
   ]
  },
  {
   "cell_type": "code",
   "execution_count": 17,
   "metadata": {},
   "outputs": [
    {
     "name": "stdout",
     "output_type": "stream",
     "text": [
      "['34', '45', '65', '76', '29']\n"
     ]
    }
   ],
   "source": [
    "#user input\n",
    "marks=[]\n",
    "for i in range(5):\n",
    "    m=input('Enter marks')\n",
    "    marks.append(m)\n",
    "print(marks)\n"
   ]
  },
  {
   "cell_type": "code",
   "execution_count": 36,
   "metadata": {},
   "outputs": [
    {
     "name": "stdout",
     "output_type": "stream",
     "text": [
      "[3, 'shanza', 5, 89, 56, 'sayeed', 5]\n"
     ]
    }
   ],
   "source": [
    "#joining two list\n",
    "l1=[3,'shanza',5]\n",
    "l2=[89,56,'sayeed',5]\n",
    "print(l1+l2)"
   ]
  },
  {
   "cell_type": "code",
   "execution_count": 37,
   "metadata": {},
   "outputs": [
    {
     "name": "stdout",
     "output_type": "stream",
     "text": [
      "[89, 56, 'sayeed', 5, '4']\n",
      "[89, 56, 'sayeed', 5, '4', 3, 'shanza', 5]\n"
     ]
    }
   ],
   "source": [
    "l2.extend('4')\n",
    "print(l2)\n",
    "l2.extend(l1)\n",
    "print(l2)"
   ]
  },
  {
   "cell_type": "code",
   "execution_count": 40,
   "metadata": {},
   "outputs": [
    {
     "name": "stdout",
     "output_type": "stream",
     "text": [
      "['shanza', 0, 1, 2]\n",
      "[0, 1, 2]\n",
      "[]\n"
     ]
    }
   ],
   "source": [
    "#deleting\n",
    "a=['shanza',0,1,2,3]\n",
    "a.pop()\n",
    "print(a)\n",
    "a.remove('shanza')\n",
    "print(a)\n",
    "a.clear()\n",
    "print(a)"
   ]
  },
  {
   "cell_type": "code",
   "execution_count": 62,
   "metadata": {},
   "outputs": [
    {
     "data": {
      "text/plain": [
       "2"
      ]
     },
     "execution_count": 62,
     "metadata": {},
     "output_type": "execute_result"
    }
   ],
   "source": [
    "#tell index\n",
    "list2=[1,8,3,67,67,67]\n",
    "list2.index(3)"
   ]
  },
  {
   "cell_type": "code",
   "execution_count": 63,
   "metadata": {},
   "outputs": [
    {
     "name": "stdout",
     "output_type": "stream",
     "text": [
      "3\n",
      "67\n",
      "[67, 67, 67, 3, 8, 1]\n",
      "[1, 3, 8, 67, 67, 67]\n"
     ]
    }
   ],
   "source": [
    "print(list2.count(67))\n",
    "print(max(list2))\n",
    "list2.reverse()\n",
    "print(list2)\n",
    "list2.sort()\n",
    "print(list2)\n",
    "\n"
   ]
  },
  {
   "cell_type": "code",
   "execution_count": 64,
   "metadata": {},
   "outputs": [
    {
     "name": "stdout",
     "output_type": "stream",
     "text": [
      "[1, 3, 8, 67, 67, 67]\n"
     ]
    }
   ],
   "source": [
    "list2_backup=list2.copy()\n",
    "print(list2_backup)"
   ]
  },
  {
   "cell_type": "markdown",
   "metadata": {},
   "source": [
    "nested list"
   ]
  },
  {
   "cell_type": "code",
   "execution_count": 72,
   "metadata": {},
   "outputs": [
    {
     "name": "stdout",
     "output_type": "stream",
     "text": [
      "8\n",
      "[1, 5, 3]\n",
      "8\n",
      "10\n",
      "67\n",
      "45\n",
      "[1, 5, 3]\n",
      "6\n",
      "6\n",
      "[1, 5, 3]\n"
     ]
    }
   ],
   "source": [
    "n=[8,10,67,45,[1,5,3],6]\n",
    "print(n[0])\n",
    "print(n[4])\n",
    "for i in n:\n",
    "    print(i)\n",
    "print(n[-1])\n",
    "print(n[-2])        "
   ]
  },
  {
   "cell_type": "code",
   "execution_count": 70,
   "metadata": {},
   "outputs": [
    {
     "name": "stdout",
     "output_type": "stream",
     "text": [
      "5\n"
     ]
    }
   ],
   "source": [
    "print(n[-2][1])    "
   ]
  },
  {
   "cell_type": "code",
   "execution_count": 75,
   "metadata": {},
   "outputs": [
    {
     "name": "stdout",
     "output_type": "stream",
     "text": [
      "6\n"
     ]
    }
   ],
   "source": [
    "print(n[len(n)-1])    "
   ]
  },
  {
   "cell_type": "code",
   "execution_count": 76,
   "metadata": {},
   "outputs": [
    {
     "name": "stdout",
     "output_type": "stream",
     "text": [
      "[67, 45]\n"
     ]
    }
   ],
   "source": [
    "print(n[2:4])    "
   ]
  },
  {
   "cell_type": "code",
   "execution_count": 77,
   "metadata": {},
   "outputs": [
    {
     "name": "stdout",
     "output_type": "stream",
     "text": [
      "[1, 5]\n"
     ]
    }
   ],
   "source": [
    "print(n[-2][0:2])    "
   ]
  },
  {
   "cell_type": "code",
   "execution_count": null,
   "metadata": {},
   "outputs": [],
   "source": []
  }
 ],
 "metadata": {
  "kernelspec": {
   "display_name": "base",
   "language": "python",
   "name": "python3"
  },
  "language_info": {
   "codemirror_mode": {
    "name": "ipython",
    "version": 3
   },
   "file_extension": ".py",
   "mimetype": "text/x-python",
   "name": "python",
   "nbconvert_exporter": "python",
   "pygments_lexer": "ipython3",
   "version": "3.10.10"
  },
  "orig_nbformat": 4
 },
 "nbformat": 4,
 "nbformat_minor": 2
}
